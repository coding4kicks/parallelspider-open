{
 "metadata": {
  "name": "jsonResultsCreator"
 },
 "nbformat": 3,
 "nbformat_minor": 0,
 "worksheets": [
  {
   "cells": [
    {
     "cell_type": "code",
     "collapsed": false,
     "input": [
      "%reset"
     ],
     "language": "python",
     "metadata": {},
     "outputs": [],
     "prompt_number": 55
    },
    {
     "cell_type": "code",
     "collapsed": false,
     "input": [
      "import pprint\n",
      "import copy\n",
      "pp = pprint.PrettyPrinter(indent=2)\n",
      "\n",
      "analysis = {'name': 'testAnalysis', 'date': '10/22/2032', 'sites': []}\n",
      "\n",
      "site1 = {'url': 'http://www.somesiteOne.com', 'results': []}\n",
      "site2 = {'url': 'http://www.somesiteTwo.com', 'results': []}\n",
      "site3 = {'url': 'http://www.somesiteThree.com', 'results': []}\n",
      "\n",
      "analysis['sites'].append(site1)\n",
      "analysis['sites'].append(site2)\n",
      "analysis['sites'].append(site3)\n",
      "\n",
      "result1 = {'type': 'visible', 'words': []}\n",
      "result2 = {'type': 'headlines', 'words': []}\n",
      "result3 = {'type': 'hidden', 'words': []}\n",
      "\n",
      "for site in analysis['sites']:\n",
      "    site['results'].append(copy.copy(result1))\n",
      "    site['results'].append(copy.copy(result2))\n",
      "    site['results'].append(copy.copy(result3))\n",
      "\n",
      "page = {'page': 'http://www.somesite.com/happyendings', 'count': 562}\n",
      "tag = {'tag': 'a', 'count': 342}\n",
      "\n",
      "pages = []\n",
      "tags = []\n",
      "\n",
      "for i in range(10):\n",
      "    pages.append(page)\n",
      "    tags.append(tag)\n"
     ],
     "language": "python",
     "metadata": {},
     "outputs": [],
     "prompt_number": 56
    },
    {
     "cell_type": "code",
     "collapsed": false,
     "input": [
      "words1 = []\n",
      "words2 = []\n",
      "words3 = []\n",
      "\n",
      "for i in range(120):\n",
      "    word = 'hello' + str(i+1)\n",
      "    rank = i + 1\n",
      "    count = 50000 - (i * 400)\n",
      "    words1.append({'word':word, 'rank':rank, 'count':count, 'pages':pages, 'tags':tags})\n",
      "\n",
      "for i in range(120):\n",
      "    word = 'hello' + str(i+41)\n",
      "    rank = i + 1\n",
      "    count = 50000 - (i * 400)\n",
      "    words2.append({'word':word, 'rank':rank, 'count':count, 'pages':pages, 'tags':tags})\n",
      "    \n",
      "for i in range(120):\n",
      "    word = 'hello' + str(i+81)\n",
      "    rank = i + 1\n",
      "    count = 50000 - (i * 400)\n",
      "    words3.append({'word':word, 'rank':rank, 'count':count, 'pages':pages, 'tags':tags})"
     ],
     "language": "python",
     "metadata": {},
     "outputs": [],
     "prompt_number": 57
    },
    {
     "cell_type": "code",
     "collapsed": false,
     "input": [
      "for site in analysis['sites']:\n",
      "    \n",
      "    if site['url'] == 'http://www.somesiteOne.com':\n",
      "        for result in site['results']:\n",
      "            result['words'] = words1\n",
      "            \n",
      "    if site['url'] == 'http://www.somesiteTwo.com':\n",
      "        for result in site['results']:\n",
      "            result['words'] = words2\n",
      "\n",
      "    if site['url'] == 'http://www.somesiteThree.com':\n",
      "        for result in site['results']:\n",
      "            result['words'] = words3"
     ],
     "language": "python",
     "metadata": {},
     "outputs": [],
     "prompt_number": 58
    },
    {
     "cell_type": "code",
     "collapsed": false,
     "input": [
      "import json\n",
      "f = open('results1.json', 'w')\n",
      "json.dump(analysis, f)\n",
      "f.close()"
     ],
     "language": "python",
     "metadata": {},
     "outputs": [],
     "prompt_number": 59
    },
    {
     "cell_type": "code",
     "collapsed": false,
     "input": [],
     "language": "python",
     "metadata": {},
     "outputs": []
    }
   ],
   "metadata": {}
  }
 ]
}